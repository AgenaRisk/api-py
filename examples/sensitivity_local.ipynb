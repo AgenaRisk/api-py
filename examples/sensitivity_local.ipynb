{
 "cells": [
  {
   "cell_type": "code",
   "execution_count": 1,
   "metadata": {},
   "outputs": [],
   "source": [
    "from pyagena import *"
   ]
  },
  {
   "cell_type": "markdown",
   "metadata": {},
   "source": [
    "Importing an existing model from a .cmpx file"
   ]
  },
  {
   "cell_type": "code",
   "execution_count": 2,
   "metadata": {},
   "outputs": [],
   "source": [
    "model = Model.from_cmpx(\"./models/CarCosts.cmpx\")"
   ]
  },
  {
   "cell_type": "markdown",
   "metadata": {},
   "source": [
    "Creating a new dataSet in the model for sensitivity analysis"
   ]
  },
  {
   "cell_type": "code",
   "execution_count": 3,
   "metadata": {},
   "outputs": [
    {
     "name": "stdout",
     "output_type": "stream",
     "text": [
      "The dataset sa is successfully created\n"
     ]
    }
   ],
   "source": [
    "model.create_dataset(\"sa\")"
   ]
  },
  {
   "cell_type": "markdown",
   "metadata": {},
   "source": [
    "Creating a sensitivity analysis config object which uses all nodes for sensitivity analysis on the node total_cost, to calculate mean and variance results"
   ]
  },
  {
   "cell_type": "code",
   "execution_count": 4,
   "metadata": {},
   "outputs": [],
   "source": [
    "sa_config = model.create_sensitivity_config(targetNode = \"total_cost\", sensitivityNodes = \"*\", dataSet = \"sa\", report_settings = {\"summaryStats\":[\"mean\", \"variance\"]})"
   ]
  },
  {
   "cell_type": "markdown",
   "metadata": {},
   "source": [
    "Running the sensitivity analysis using local agena.ai developer API (the API must be cloned and compiled within the working directory).\n",
    "\n",
    "Note that the sensitivity analysis function will return the results as a `dict`, it's recommended to assign the results of the function to a variable for future analysis and use."
   ]
  },
  {
   "cell_type": "code",
   "execution_count": 5,
   "metadata": {},
   "outputs": [],
   "source": [
    "sa_results = local_api_sensitivity_analysis(model, sa_config)"
   ]
  },
  {
   "cell_type": "markdown",
   "metadata": {},
   "source": [
    "The results fields are accessible in the returned results dict. For example, to access the first sensitivity node's table: "
   ]
  },
  {
   "cell_type": "code",
   "execution_count": 6,
   "metadata": {},
   "outputs": [
    {
     "data": {
      "text/plain": [
       "{'sensitivityName': 'Annual maintenance cost ($)',\n",
       " 'targetName': 'Total annual cost $',\n",
       " 'headerRow': ['Annual maintenance cost ($) State', 'mean', 'variance'],\n",
       " 'sensitivityNode': 'maintenance_cost',\n",
       " 'title': 'p(Total annual cost $ | Annual maintenance cost ($))',\n",
       " 'rows': [[52, 1032.3968895088842, 131676.26322705625],\n",
       "  [70, 1050.727245731325, 131251.76434562053],\n",
       "  [79, 1059.3683331627985, 131358.30749681708],\n",
       "  [85, 1065.4804131277726, 131276.53212824906],\n",
       "  [91, 1071.4745531856643, 131176.59542485792],\n",
       "  [95.5, 1076.1775432862885, 130990.74861765793],\n",
       "  [98.5, 1079.138093627095, 130916.83212871966],\n",
       "  [101.5, 1082.2252436075528, 130819.7603993204],\n",
       "  [104.5, 1085.5001083995644, 130694.22962697013],\n",
       "  [109, 1089.666137914571, 130742.99873365811],\n",
       "  [115.62882692912616, 1097.4070559925578, 129842.4370927643],\n",
       "  [122.88648078737849, 1103.6840134248973, 130082.02423390676],\n",
       "  [143.25765385825233, 1186.6238732909226, 227364.70945415925],\n",
       "  [166.32576538582524, 1484.697157166214, 532715.923763304],\n",
       "  [175.81441346456307, 1494.8313470832902, 532158.9046894442],\n",
       "  [182.14017885038834, 1500.4240308811238, 532491.9986506845],\n",
       "  [187.14017885038834, 1505.21081211961, 532789.7452389505],\n",
       "  [190.81441346456307, 1508.5576888618004, 532859.7061864836],\n",
       "  [194.48864807873787, 1512.3307547983482, 532907.4219935094],\n",
       "  [198.1628826929126, 1516.4490188728382, 532819.6616822216],\n",
       "  [201.8371173070874, 1520.0862714045265, 532853.896583172],\n",
       "  [205.51135192126213, 1523.908820844021, 532768.0464790175],\n",
       "  [209.18558653543693, 1527.5584502283386, 532764.7447423451],\n",
       "  [212.85982114961172, 1531.1863924474492, 532749.0184102552],\n",
       "  [218.37117307087385, 1536.4178346683318, 532781.1013300242],\n",
       "  [225.7196422992234, 1543.8171840801328, 532497.841435466],\n",
       "  [233.06811152757294, 1552.1006752497813, 533449.2813395988],\n",
       "  [240.41658075592247, 1559.2536362812482, 534231.1123273685],\n",
       "  [297.04540768504864, 1628.5382259551675, 549588.6252112426],\n",
       "  [402.9545923149514, 2191.2277624035246, 954451.2406521821],\n",
       "  [463.25765385825235, 2253.837181004312, 954710.7373367995],\n",
       "  [477.95459231495147, 2269.4339898678504, 956709.6262811897],\n",
       "  [488.97729615747573, 2281.5373450045527, 955883.5994819058],\n",
       "  [494.4886480787379, 2287.2469194963837, 955526.0075217532],\n",
       "  [498.1628826929126, 2290.9644923057363, 955995.2152015064],\n",
       "  [503.6742346141748, 2296.1259568628448, 958023.4477102812],\n",
       "  [509.185586535437, 2302.349358516642, 957403.7543127779],\n",
       "  [512.8598211496118, 2307.1410251092, 957452.5579732303],\n",
       "  [518.371173070874, 2313.7887399937777, 958739.8145146864],\n",
       "  [525.7196422992236, 2321.5901880073948, 959373.5445299512],\n",
       "  [536.7423461417477, 2334.5711062443524, 960968.2295671077],\n",
       "  [551.4392845984469, 2350.9198540176767, 960284.0771347443],\n",
       "  [566.1362230551458, 2364.3499011033427, 963116.8891516412]]}"
      ]
     },
     "execution_count": 6,
     "metadata": {},
     "output_type": "execute_result"
    }
   ],
   "source": [
    "sa_results.tables[0]"
   ]
  }
 ],
 "metadata": {
  "kernelspec": {
   "display_name": "Python 3",
   "language": "python",
   "name": "python3"
  },
  "language_info": {
   "codemirror_mode": {
    "name": "ipython",
    "version": 3
   },
   "file_extension": ".py",
   "mimetype": "text/x-python",
   "name": "python",
   "nbconvert_exporter": "python",
   "pygments_lexer": "ipython3",
   "version": "3.11.0"
  },
  "orig_nbformat": 4
 },
 "nbformat": 4,
 "nbformat_minor": 2
}
