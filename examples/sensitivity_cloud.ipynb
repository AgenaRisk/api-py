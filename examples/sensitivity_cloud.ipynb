{
 "cells": [
  {
   "cell_type": "code",
   "execution_count": 1,
   "metadata": {},
   "outputs": [],
   "source": [
    "from pyagena import *"
   ]
  },
  {
   "cell_type": "markdown",
   "metadata": {},
   "source": [
    "Importing an existing model from a .cmpx file"
   ]
  },
  {
   "cell_type": "code",
   "execution_count": 2,
   "metadata": {},
   "outputs": [],
   "source": [
    "model = Model.from_cmpx(\"./models/CarCosts.cmpx\")"
   ]
  },
  {
   "cell_type": "markdown",
   "metadata": {},
   "source": [
    "Creating a new dataSet in the model for sensitivity analysis"
   ]
  },
  {
   "cell_type": "code",
   "execution_count": 3,
   "metadata": {},
   "outputs": [
    {
     "name": "stdout",
     "output_type": "stream",
     "text": [
      "The dataset sa is successfully created\n"
     ]
    }
   ],
   "source": [
    "model.create_dataset(\"sa\")"
   ]
  },
  {
   "cell_type": "markdown",
   "metadata": {},
   "source": [
    "Creating a sensitivity analysis config object which uses all nodes for sensitivity analysis on the node total_cost, to calculate mean and variance results"
   ]
  },
  {
   "cell_type": "code",
   "execution_count": 4,
   "metadata": {},
   "outputs": [],
   "source": [
    "sa_config = model.create_sensitivity_config(targetNode = \"total_cost\", sensitivityNodes = \"*\", dataSet = \"sa\", report_settings = {\"summaryStats\":[\"mean\", \"variance\"]})"
   ]
  },
  {
   "cell_type": "markdown",
   "metadata": {},
   "source": [
    "Login to the agena.ai cloud servers and running the sensitivity analysis of the model:"
   ]
  },
  {
   "cell_type": "code",
   "execution_count": 5,
   "metadata": {},
   "outputs": [
    {
     "name": "stdout",
     "output_type": "stream",
     "text": [
      "Authentication to agena.ai cloud servers is successful\n"
     ]
    }
   ],
   "source": [
    "cloud_user = login()"
   ]
  },
  {
   "cell_type": "markdown",
   "metadata": {},
   "source": [
    "Note that sensitivity analysis function returns the results as a dictionary and it is a good practice to assign the results to a variable for further analysis and use."
   ]
  },
  {
   "cell_type": "code",
   "execution_count": 6,
   "metadata": {},
   "outputs": [
    {
     "name": "stdout",
     "output_type": "stream",
     "text": [
      "['Sensitivity analysis finished']\n"
     ]
    }
   ],
   "source": [
    "sa_results = cloud_user.sensitivity_analysis(model, sa_config)"
   ]
  },
  {
   "cell_type": "markdown",
   "metadata": {},
   "source": [
    "Now you can access the results in the assigned variable"
   ]
  },
  {
   "cell_type": "code",
   "execution_count": 7,
   "metadata": {},
   "outputs": [
    {
     "data": {
      "text/plain": [
       "{'sensitivityName': 'Annual maintenance cost ($)',\n",
       " 'targetName': 'Total annual cost $',\n",
       " 'headerRow': ['Annual maintenance cost ($) State', 'mean', 'variance'],\n",
       " 'sensitivityNode': 'maintenance_cost',\n",
       " 'title': 'p(Total annual cost $ | Annual maintenance cost ($))',\n",
       " 'rows': [[52, 1029.9411651056241, 131909.7254157015],\n",
       "  [70, 1047.8320574653926, 131694.60511296173],\n",
       "  [82, 1059.3711306267471, 131933.8579470995],\n",
       "  [91, 1069.584063774978, 131461.24503834406],\n",
       "  [97, 1075.2949508543384, 131385.8137666299],\n",
       "  [103, 1081.473014447741, 131225.9276138211],\n",
       "  [109, 1087.5997886399573, 130992.52846554806],\n",
       "  [115.62882692912616, 1095.3413334125792, 130064.39185674465],\n",
       "  [122.88648078737849, 1101.5233163195176, 130298.88566189702],\n",
       "  [143.25765385825233, 1188.7195458489007, 231338.29371781112],\n",
       "  [166.32576538582524, 1488.8987986006978, 543663.5912435944],\n",
       "  [178.9772961574757, 1501.5158682356807, 542321.6303911298],\n",
       "  [188.9772961574757, 1510.7755759748018, 542796.2617352782],\n",
       "  [196.32576538582524, 1518.3696793625659, 542548.559513886],\n",
       "  [203.67423461417476, 1525.877553953791, 542067.783005748],\n",
       "  [211.02270384252432, 1533.0048164994216, 541703.4556343933],\n",
       "  [222.04540768504864, 1542.528197231881, 541360.4249595529],\n",
       "  [236.7423461417477, 1558.743963875065, 542212.2087021982],\n",
       "  [350, 1848.7970103078458, 758126.1137126433],\n",
       "  [463.25765385825235, 2258.404498355844, 961781.2572940737],\n",
       "  [477.95459231495147, 2274.1024112890186, 966987.6273465091],\n",
       "  [488.97729615747573, 2286.1078661789147, 968148.2589332312],\n",
       "  [496.32576538582526, 2293.68917747464, 970487.186427014],\n",
       "  [503.6742346141748, 2301.2822309080634, 972687.5485317148],\n",
       "  [511.0227038425244, 2310.6414580544856, 974075.5857494967],\n",
       "  [522.0454076850488, 2325.2081861942247, 978114.3697024453],\n",
       "  [536.7423461417477, 2341.2539779563504, 981038.5816564392],\n",
       "  [558.7877538267963, 2368.8552627521544, 984596.6934975907]]}"
      ]
     },
     "execution_count": 7,
     "metadata": {},
     "output_type": "execute_result"
    }
   ],
   "source": [
    "sa_results.results.tables[0]"
   ]
  }
 ],
 "metadata": {
  "kernelspec": {
   "display_name": "Python 3",
   "language": "python",
   "name": "python3"
  },
  "language_info": {
   "codemirror_mode": {
    "name": "ipython",
    "version": 3
   },
   "file_extension": ".py",
   "mimetype": "text/x-python",
   "name": "python",
   "nbconvert_exporter": "python",
   "pygments_lexer": "ipython3",
   "version": "3.11.0"
  },
  "orig_nbformat": 4
 },
 "nbformat": 4,
 "nbformat_minor": 2
}
