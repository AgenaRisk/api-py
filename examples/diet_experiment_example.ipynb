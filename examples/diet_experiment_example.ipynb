{
 "cells": [
  {
   "cell_type": "code",
   "execution_count": 1,
   "metadata": {},
   "outputs": [],
   "source": [
    "from pyagena import *"
   ]
  },
  {
   "cell_type": "code",
   "execution_count": 2,
   "metadata": {},
   "outputs": [],
   "source": [
    "#First we create the \"mean\" and \"variance\" nodes\n",
    "\n",
    "mean = Node(id=\"mean\", simulated=True)\n",
    "mean.set_expressions([\"Normal(0.0,100000.0)\"])\n",
    "\n",
    "variance = Node(id=\"variance\", simulated=True)\n",
    "variance.set_expressions([\"Uniform(0.0,50.0)\"])"
   ]
  },
  {
   "cell_type": "code",
   "execution_count": 3,
   "metadata": {},
   "outputs": [
    {
     "name": "stdout",
     "output_type": "stream",
     "text": [
      "The node tau has been added to the parents of common variance and now can be used in its expression\n"
     ]
    }
   ],
   "source": [
    "#Now we create the \"common variance\" and its \"tau\" parameter nodes\n",
    "\n",
    "tau = Node(id=\"tau\", simulated=True)\n",
    "tau.set_expressions([\"Gamma(0.001,1000.0)\"])\n",
    "\n",
    "common_var = Node(id=\"common_var\", name=\"common variance\", simulated=True)\n",
    "common_var.add_parent(tau)\n",
    "common_var.set_expressions([\"Arithmetic(1.0/tau)\"])"
   ]
  },
  {
   "cell_type": "code",
   "execution_count": 4,
   "metadata": {},
   "outputs": [
    {
     "name": "stdout",
     "output_type": "stream",
     "text": [
      "The node mean has been added to the parents of mean A and now can be used in its expression\n",
      "The node variance has been added to the parents of mean A and now can be used in its expression\n",
      "The node mean has been added to the parents of mean B and now can be used in its expression\n",
      "The node variance has been added to the parents of mean B and now can be used in its expression\n",
      "The node mean has been added to the parents of mean C and now can be used in its expression\n",
      "The node variance has been added to the parents of mean C and now can be used in its expression\n",
      "The node mean has been added to the parents of mean D and now can be used in its expression\n",
      "The node variance has been added to the parents of mean D and now can be used in its expression\n"
     ]
    }
   ],
   "source": [
    "#Creating a list of four mean nodes, \"mean A\", \"mean B\", \"mean C\", and \"mean D\"\n",
    "\n",
    "mean_names = [\"A\", \"B\", \"C\", \"D\"]\n",
    "means_list = []\n",
    "\n",
    "for mn in mean_names:\n",
    "    this_mean = Node(id=\"mean\" + mn, name=\"mean \" + mn, simulated=True)\n",
    "    this_mean.add_parent(mean)\n",
    "    this_mean.add_parent(variance)\n",
    "    this_mean.set_expressions([\"Normal(mean,variance)\"])\n",
    "    means_list.append(this_mean)\n"
   ]
  },
  {
   "cell_type": "code",
   "execution_count": 5,
   "metadata": {},
   "outputs": [
    {
     "name": "stdout",
     "output_type": "stream",
     "text": [
      "The node common variance has been added to the parents of y11 and now can be used in its expression\n",
      "The node mean A has been added to the parents of y11 and now can be used in its expression\n",
      "The node common variance has been added to the parents of y12 and now can be used in its expression\n",
      "The node mean A has been added to the parents of y12 and now can be used in its expression\n",
      "The node common variance has been added to the parents of y13 and now can be used in its expression\n",
      "The node mean A has been added to the parents of y13 and now can be used in its expression\n",
      "The node common variance has been added to the parents of y14 and now can be used in its expression\n",
      "The node mean A has been added to the parents of y14 and now can be used in its expression\n",
      "The node common variance has been added to the parents of y21 and now can be used in its expression\n",
      "The node mean B has been added to the parents of y21 and now can be used in its expression\n",
      "The node common variance has been added to the parents of y22 and now can be used in its expression\n",
      "The node mean B has been added to the parents of y22 and now can be used in its expression\n",
      "The node common variance has been added to the parents of y23 and now can be used in its expression\n",
      "The node mean B has been added to the parents of y23 and now can be used in its expression\n",
      "The node common variance has been added to the parents of y24 and now can be used in its expression\n",
      "The node mean B has been added to the parents of y24 and now can be used in its expression\n",
      "The node common variance has been added to the parents of y25 and now can be used in its expression\n",
      "The node mean B has been added to the parents of y25 and now can be used in its expression\n",
      "The node common variance has been added to the parents of y26 and now can be used in its expression\n",
      "The node mean B has been added to the parents of y26 and now can be used in its expression\n",
      "The node common variance has been added to the parents of y31 and now can be used in its expression\n",
      "The node mean C has been added to the parents of y31 and now can be used in its expression\n",
      "The node common variance has been added to the parents of y32 and now can be used in its expression\n",
      "The node mean C has been added to the parents of y32 and now can be used in its expression\n",
      "The node common variance has been added to the parents of y33 and now can be used in its expression\n",
      "The node mean C has been added to the parents of y33 and now can be used in its expression\n",
      "The node common variance has been added to the parents of y34 and now can be used in its expression\n",
      "The node mean C has been added to the parents of y34 and now can be used in its expression\n",
      "The node common variance has been added to the parents of y35 and now can be used in its expression\n",
      "The node mean C has been added to the parents of y35 and now can be used in its expression\n",
      "The node common variance has been added to the parents of y36 and now can be used in its expression\n",
      "The node mean C has been added to the parents of y36 and now can be used in its expression\n",
      "The node common variance has been added to the parents of y41 and now can be used in its expression\n",
      "The node mean D has been added to the parents of y41 and now can be used in its expression\n",
      "The node common variance has been added to the parents of y42 and now can be used in its expression\n",
      "The node mean D has been added to the parents of y42 and now can be used in its expression\n",
      "The node common variance has been added to the parents of y43 and now can be used in its expression\n",
      "The node mean D has been added to the parents of y43 and now can be used in its expression\n",
      "The node common variance has been added to the parents of y44 and now can be used in its expression\n",
      "The node mean D has been added to the parents of y44 and now can be used in its expression\n",
      "The node common variance has been added to the parents of y45 and now can be used in its expression\n",
      "The node mean D has been added to the parents of y45 and now can be used in its expression\n",
      "The node common variance has been added to the parents of y46 and now can be used in its expression\n",
      "The node mean D has been added to the parents of y46 and now can be used in its expression\n",
      "The node common variance has been added to the parents of y47 and now can be used in its expression\n",
      "The node mean D has been added to the parents of y47 and now can be used in its expression\n",
      "The node common variance has been added to the parents of y48 and now can be used in its expression\n",
      "The node mean D has been added to the parents of y48 and now can be used in its expression\n"
     ]
    }
   ],
   "source": [
    "# Defining the list of observations for the experiment nodes\n",
    "# and creating the experiment nodes y11, y12, ..., y47, y48\n",
    "\n",
    "observations = [[62, 60, 63, 59],\n",
    "                [63, 67, 71, 64, 65, 66],\n",
    "                [68, 66, 71, 67, 68, 68],\n",
    "                [56, 62, 60, 61, 63, 64, 63, 59]]\n",
    "\n",
    "obs_nodes_list = []\n",
    "\n",
    "for i, (obs, mn) in enumerate(zip(observations, means_list)):\n",
    "    for j, ob in enumerate(obs):\n",
    "        this_obs = Node(id=\"y\"+str(i+1)+str(j+1), simulated=True)\n",
    "        this_obs.add_parent(common_var)\n",
    "        this_obs.add_parent(mn)\n",
    "        this_obs.set_expressions([\"Normal(\"+mn.id+\",common_var)\"])\n",
    "        obs_nodes_list.append(this_obs)"
   ]
  },
  {
   "cell_type": "code",
   "execution_count": 6,
   "metadata": {},
   "outputs": [],
   "source": [
    "# Creating the network for all the nodes\n",
    "\n",
    "diet_network = Network(id = \"Hierarchical_Normal_Model_1\",\n",
    "                       name = \"Hierarchical Normal Model\")"
   ]
  },
  {
   "cell_type": "code",
   "execution_count": 7,
   "metadata": {},
   "outputs": [
    {
     "name": "stdout",
     "output_type": "stream",
     "text": [
      "The node mean is successfully added to the network. If mean has any parent nodes, make sure to add them to the network separately\n",
      "The node variance is successfully added to the network. If variance has any parent nodes, make sure to add them to the network separately\n",
      "The node tau is successfully added to the network. If tau has any parent nodes, make sure to add them to the network separately\n",
      "The node common variance is successfully added to the network. If common variance has any parent nodes, make sure to add them to the network separately\n",
      "The node mean A is successfully added to the network. If mean A has any parent nodes, make sure to add them to the network separately\n",
      "The node mean B is successfully added to the network. If mean B has any parent nodes, make sure to add them to the network separately\n",
      "The node mean C is successfully added to the network. If mean C has any parent nodes, make sure to add them to the network separately\n",
      "The node mean D is successfully added to the network. If mean D has any parent nodes, make sure to add them to the network separately\n",
      "The node y11 is successfully added to the network. If y11 has any parent nodes, make sure to add them to the network separately\n",
      "The node y12 is successfully added to the network. If y12 has any parent nodes, make sure to add them to the network separately\n",
      "The node y13 is successfully added to the network. If y13 has any parent nodes, make sure to add them to the network separately\n",
      "The node y14 is successfully added to the network. If y14 has any parent nodes, make sure to add them to the network separately\n",
      "The node y21 is successfully added to the network. If y21 has any parent nodes, make sure to add them to the network separately\n",
      "The node y22 is successfully added to the network. If y22 has any parent nodes, make sure to add them to the network separately\n",
      "The node y23 is successfully added to the network. If y23 has any parent nodes, make sure to add them to the network separately\n",
      "The node y24 is successfully added to the network. If y24 has any parent nodes, make sure to add them to the network separately\n",
      "The node y25 is successfully added to the network. If y25 has any parent nodes, make sure to add them to the network separately\n",
      "The node y26 is successfully added to the network. If y26 has any parent nodes, make sure to add them to the network separately\n",
      "The node y31 is successfully added to the network. If y31 has any parent nodes, make sure to add them to the network separately\n",
      "The node y32 is successfully added to the network. If y32 has any parent nodes, make sure to add them to the network separately\n",
      "The node y33 is successfully added to the network. If y33 has any parent nodes, make sure to add them to the network separately\n",
      "The node y34 is successfully added to the network. If y34 has any parent nodes, make sure to add them to the network separately\n",
      "The node y35 is successfully added to the network. If y35 has any parent nodes, make sure to add them to the network separately\n",
      "The node y36 is successfully added to the network. If y36 has any parent nodes, make sure to add them to the network separately\n",
      "The node y41 is successfully added to the network. If y41 has any parent nodes, make sure to add them to the network separately\n",
      "The node y42 is successfully added to the network. If y42 has any parent nodes, make sure to add them to the network separately\n",
      "The node y43 is successfully added to the network. If y43 has any parent nodes, make sure to add them to the network separately\n",
      "The node y44 is successfully added to the network. If y44 has any parent nodes, make sure to add them to the network separately\n",
      "The node y45 is successfully added to the network. If y45 has any parent nodes, make sure to add them to the network separately\n",
      "The node y46 is successfully added to the network. If y46 has any parent nodes, make sure to add them to the network separately\n",
      "The node y47 is successfully added to the network. If y47 has any parent nodes, make sure to add them to the network separately\n",
      "The node y48 is successfully added to the network. If y48 has any parent nodes, make sure to add them to the network separately\n"
     ]
    }
   ],
   "source": [
    "# Adding all the nodes to the network\n",
    "\n",
    "for nd in [mean, variance, tau, common_var, *means_list, *obs_nodes_list]:\n",
    "    diet_network.add_node(nd)"
   ]
  },
  {
   "cell_type": "code",
   "execution_count": 8,
   "metadata": {},
   "outputs": [],
   "source": [
    "# Creating a model with the network\n",
    "\n",
    "diet_model = Model(id=\"Diet_Experiment_Model\", networks=[diet_network])"
   ]
  },
  {
   "cell_type": "code",
   "execution_count": 9,
   "metadata": {},
   "outputs": [],
   "source": [
    "# Entering all the observations\n",
    "\n",
    "for i, obs in enumerate(observations):\n",
    "    for j, ob in enumerate(obs):\n",
    "        this_node_id = \"y\" + str(i+1) + str(j+1)\n",
    "        diet_model.enter_observation(node_id=this_node_id,\n",
    "                                     network_id=diet_model.networks[0].id,\n",
    "                                     value=ob)\n"
   ]
  },
  {
   "cell_type": "code",
   "execution_count": 10,
   "metadata": {},
   "outputs": [],
   "source": [
    "# Creating json or cmpx file for the model\n",
    "diet_model.save_to_file(\"diet_model_example.cmpx\")"
   ]
  },
  {
   "cell_type": "code",
   "execution_count": 12,
   "metadata": {},
   "outputs": [
    {
     "name": "stdout",
     "output_type": "stream",
     "text": [
      "Results are successfully imported to case Case 1\n",
      "The calculation is completed, the dataset in the model now contains new calculation results\n"
     ]
    }
   ],
   "source": [
    "# Or sending it to local agena.ai developer API for calculation\n",
    "local_api_calculate(diet_model, \"Case 1\")"
   ]
  },
  {
   "cell_type": "code",
   "execution_count": 13,
   "metadata": {},
   "outputs": [
    {
     "name": "stdout",
     "output_type": "stream",
     "text": [
      "Authentication to agena.ai cloud servers is successful\n",
      "['Calculation finished']\n"
     ]
    }
   ],
   "source": [
    "# Or sending it to agena.ai Cloud for calculation\n",
    "user = login()\n",
    "user.calculate(diet_model, \"Case 1\")"
   ]
  }
 ],
 "metadata": {
  "kernelspec": {
   "display_name": "Python 3",
   "language": "python",
   "name": "python3"
  },
  "language_info": {
   "codemirror_mode": {
    "name": "ipython",
    "version": 3
   },
   "file_extension": ".py",
   "mimetype": "text/x-python",
   "name": "python",
   "nbconvert_exporter": "python",
   "pygments_lexer": "ipython3",
   "version": "3.11.0"
  },
  "orig_nbformat": 4
 },
 "nbformat": 4,
 "nbformat_minor": 2
}
