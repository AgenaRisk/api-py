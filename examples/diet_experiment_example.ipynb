{
 "cells": [
  {
   "cell_type": "code",
   "execution_count": null,
   "metadata": {},
   "outputs": [],
   "source": [
    "from pyagena import *"
   ]
  },
  {
   "cell_type": "code",
   "execution_count": null,
   "metadata": {},
   "outputs": [],
   "source": [
    "#Creating a model and its network\n",
    "\n",
    "diet = Model()\n",
    "\n",
    "diet.create_network(\"Hierarchical_Normal_Model_1\")\n",
    "net = diet.get_network(\"Hierarchical_Normal_Model_1\")"
   ]
  },
  {
   "cell_type": "code",
   "execution_count": null,
   "metadata": {},
   "outputs": [],
   "source": [
    "#Creating mean and variance nodes\n",
    "\n",
    "net.create_node(id=\"mean\", simulated=True)\n",
    "net.set_node_expressions(node_id=\"mean\", expressions=[\"Normal(0.0,100000.0)\"])\n",
    "\n",
    "net.create_node(id=\"variance\", simulated=True)\n",
    "net.set_node_expressions(node_id=\"variance\", expressions=[\"Uniform(0.0,50.0)\"])"
   ]
  },
  {
   "cell_type": "code",
   "execution_count": null,
   "metadata": {},
   "outputs": [],
   "source": [
    "#Now we create the \"common variance\" and its \"tau\" parameter nodes\n",
    "\n",
    "net.create_node(id=\"tau\", simulated=True)\n",
    "net.set_node_expressions(node_id=\"tau\", expressions=[\"Gamma(0.001,1000.0)\"])\n",
    "\n",
    "net.create_node(id=\"common_var\", name=\"common variance\", simulated=True)\n",
    "net.create_edge(child_id=\"common_var\", parent_id=\"tau\")\n",
    "net.set_node_expressions(node_id=\"common_var\", expressions=[\"Arithmetic(1.0/tau)\"])"
   ]
  },
  {
   "cell_type": "code",
   "execution_count": null,
   "metadata": {},
   "outputs": [],
   "source": [
    "#Creating a list of four mean nodes, \"mean A\", \"mean B\", \"mean C\", and \"mean D\"\n",
    "\n",
    "mean_names = [\"A\", \"B\", \"C\", \"D\"]\n",
    "means_list = []\n",
    "\n",
    "for mn in mean_names:\n",
    "    this_id = \"mean\" + mn\n",
    "    this_name = \"mean \" + mn\n",
    "    net.create_node(id=this_id, name=this_name)\n",
    "    net.create_edge(child_id=this_id, parent_id=\"mean\")\n",
    "    net.create_edge(child_id=this_id, parent_id=\"variance\")\n",
    "    net.set_node_expressions(node_id=this_id, expressions=[\"Normal(mean,variance)\"])\n",
    "    means_list.append(this_id)"
   ]
  },
  {
   "cell_type": "code",
   "execution_count": null,
   "metadata": {},
   "outputs": [],
   "source": [
    "# Defining the list of observations for the experiment nodes\n",
    "# and creating the experiment nodes y11, y12, ..., y47, y48\n",
    "\n",
    "observations = [[62, 60, 63, 59],\n",
    "                [63, 67, 71, 64, 65, 66],\n",
    "                [68, 66, 71, 67, 68, 68],\n",
    "                [56, 62, 60, 61, 63, 64, 63, 59]]\n",
    "\n",
    "for i, (obs, mn) in enumerate(zip(observations, means_list)):\n",
    "    for j, ob in enumerate(obs):\n",
    "        this_id = \"y\"+str(i)+str(j)\n",
    "        net.create_node(id=this_id, simulated=True)\n",
    "        net.create_edge(child_id=this_id, parent_id=\"common_var\")\n",
    "        net.create_edge(child_id=this_id, parent_id=mn)\n",
    "        net.set_node_expressions(node_id=this_id, expressions=[\"Normal(\"+mn+\",common_var)\"])"
   ]
  },
  {
   "cell_type": "code",
   "execution_count": null,
   "metadata": {},
   "outputs": [],
   "source": [
    "# Entering all the observations\n",
    "\n",
    "for i, obs in enumerate(observations):\n",
    "    for j, ob in enumerate(obs):\n",
    "        this_node_id = \"y\" + str(i) + str(j)\n",
    "        diet.enter_observation(network_id=net.id,\n",
    "        node_id=this_node_id,\n",
    "        value=ob)"
   ]
  },
  {
   "cell_type": "code",
   "execution_count": null,
   "metadata": {},
   "outputs": [],
   "source": [
    "# To create a local .cmpx file\n",
    "diet.save_to_file(\"./diet_model_example.cmpx\")"
   ]
  },
  {
   "cell_type": "code",
   "execution_count": null,
   "metadata": {},
   "outputs": [],
   "source": [
    "# Or sending it to local agena.ai developer API for calculation\n",
    "local_api_calculate(diet)"
   ]
  },
  {
   "cell_type": "code",
   "execution_count": null,
   "metadata": {},
   "outputs": [],
   "source": [
    "# Or sending it to agena.ai Cloud for calculation\n",
    "user = login()\n",
    "user.calculate(diet, \"Case 1\")"
   ]
  }
 ],
 "metadata": {
  "kernelspec": {
   "display_name": "Python 3",
   "language": "python",
   "name": "python3"
  },
  "language_info": {
   "codemirror_mode": {
    "name": "ipython",
    "version": 3
   },
   "file_extension": ".py",
   "mimetype": "text/x-python",
   "name": "python",
   "nbconvert_exporter": "python",
   "pygments_lexer": "ipython3",
   "version": "3.11.0"
  },
  "orig_nbformat": 4
 },
 "nbformat": 4,
 "nbformat_minor": 2
}
