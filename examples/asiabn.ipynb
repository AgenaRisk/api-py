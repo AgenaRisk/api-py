{
 "cells": [
  {
   "cell_type": "code",
   "execution_count": 1,
   "metadata": {},
   "outputs": [],
   "source": [
    "from pyagena import *"
   ]
  },
  {
   "cell_type": "markdown",
   "metadata": {},
   "source": [
    "Now create a new model."
   ]
  },
  {
   "cell_type": "code",
   "execution_count": 2,
   "metadata": {},
   "outputs": [],
   "source": [
    "asia = Model()"
   ]
  },
  {
   "cell_type": "markdown",
   "metadata": {},
   "source": [
    "Now create a network in the model."
   ]
  },
  {
   "cell_type": "code",
   "execution_count": 3,
   "metadata": {},
   "outputs": [
    {
     "name": "stdout",
     "output_type": "stream",
     "text": [
      "The network is successfully added to the model\n"
     ]
    }
   ],
   "source": [
    "asia.create_network(id=\"asia_net\")"
   ]
  },
  {
   "cell_type": "markdown",
   "metadata": {},
   "source": [
    "We can assign the network to a variable so the further operations are easier."
   ]
  },
  {
   "cell_type": "code",
   "execution_count": 4,
   "metadata": {},
   "outputs": [],
   "source": [
    "net = asia.get_network(\"asia_net\")"
   ]
  },
  {
   "cell_type": "markdown",
   "metadata": {},
   "source": [
    "Now add the nodes to the network."
   ]
  },
  {
   "cell_type": "code",
   "execution_count": 5,
   "metadata": {},
   "outputs": [
    {
     "name": "stdout",
     "output_type": "stream",
     "text": [
      "The node Visit to Asia? is successfully added to the network. If Visit to Asia? has any parent nodes, make sure to add them to the network separately\n",
      "The node Smoker? is successfully added to the network. If Smoker? has any parent nodes, make sure to add them to the network separately\n",
      "The node Has tuberculosis is successfully added to the network. If Has tuberculosis has any parent nodes, make sure to add them to the network separately\n",
      "The node Has lung cancer is successfully added to the network. If Has lung cancer has any parent nodes, make sure to add them to the network separately\n",
      "The node Has bronchitis is successfully added to the network. If Has bronchitis has any parent nodes, make sure to add them to the network separately\n",
      "The node Tuberculosis or cancer is successfully added to the network. If Tuberculosis or cancer has any parent nodes, make sure to add them to the network separately\n",
      "The node Positive X-ray? is successfully added to the network. If Positive X-ray? has any parent nodes, make sure to add them to the network separately\n",
      "The node Dyspnoea? is successfully added to the network. If Dyspnoea? has any parent nodes, make sure to add them to the network separately\n"
     ]
    }
   ],
   "source": [
    "net.create_node(id=\"A\", name=\"Visit to Asia?\")\n",
    "net.create_node(id=\"S\", name=\"Smoker?\")\n",
    "\n",
    "net.create_node(id=\"T\", name=\"Has tuberculosis\")\n",
    "net.create_node(id=\"L\", name=\"Has lung cancer\")\n",
    "net.create_node(id=\"B\", name=\"Has bronchitis\")\n",
    "\n",
    "net.create_node(id=\"TBoC\", name=\"Tuberculosis or cancer\")\n",
    "\n",
    "net.create_node(id=\"X\", name=\"Positive X-ray?\")\n",
    "net.create_node(id=\"D\", name=\"Dyspnoea?\")"
   ]
  },
  {
   "cell_type": "markdown",
   "metadata": {},
   "source": [
    "These are all binary boolean nodes with the default states `False` and `True`.\n",
    "\n",
    "Now we add edges between the nodes."
   ]
  },
  {
   "cell_type": "code",
   "execution_count": 6,
   "metadata": {},
   "outputs": [
    {
     "name": "stdout",
     "output_type": "stream",
     "text": [
      "The node Visit to Asia? has been added to the parents of Has tuberculosis and NPT values are reset to uniform\n",
      "The node Smoker? has been added to the parents of Has lung cancer and NPT values are reset to uniform\n",
      "The node Smoker? has been added to the parents of Has bronchitis and NPT values are reset to uniform\n",
      "The node Has tuberculosis has been added to the parents of Tuberculosis or cancer and NPT values are reset to uniform\n",
      "The node Has lung cancer has been added to the parents of Tuberculosis or cancer and NPT values are reset to uniform\n",
      "The node Tuberculosis or cancer has been added to the parents of Positive X-ray? and NPT values are reset to uniform\n",
      "The node Tuberculosis or cancer has been added to the parents of Dyspnoea? and NPT values are reset to uniform\n",
      "The node Has bronchitis has been added to the parents of Dyspnoea? and NPT values are reset to uniform\n"
     ]
    }
   ],
   "source": [
    "net.create_edge(child_id=\"T\", parent_id=\"A\")\n",
    "net.create_edge(child_id=\"L\", parent_id=\"S\")\n",
    "net.create_edge(child_id=\"B\", parent_id=\"S\")\n",
    "net.create_edge(child_id=\"TBoC\", parent_id=\"T\")\n",
    "net.create_edge(child_id=\"TBoC\", parent_id=\"L\")\n",
    "net.create_edge(child_id=\"X\", parent_id=\"TBoC\")\n",
    "net.create_edge(child_id=\"D\", parent_id=\"TBoC\")\n",
    "net.create_edge(child_id=\"D\", parent_id=\"B\")"
   ]
  },
  {
   "cell_type": "markdown",
   "metadata": {},
   "source": [
    "At the moment all nodes have default uniform NPTs, we can define the NPT values."
   ]
  },
  {
   "cell_type": "code",
   "execution_count": 8,
   "metadata": {},
   "outputs": [],
   "source": [
    "net.set_node_probabilities(node_id=\"A\", new_probs=[[0.99, 0.01]])\n",
    "net.set_node_probabilities(node_id=\"T\", new_probs=[[0.99, 0.01],[0.95, 0.05]])\n",
    "net.set_node_probabilities(node_id=\"L\", new_probs=[[0.9, 0.1], [0.99, 0.01]])\n",
    "net.set_node_probabilities(node_id=\"B\", new_probs=[[0.7, 0.3], [0.4, 0.6]])\n",
    "net.set_node_probabilities(node_id=\"TBoC\", new_probs=[[1, 0], [0, 1], [0, 1], [0, 1]])\n",
    "net.set_node_probabilities(node_id=\"X\", new_probs=[[0.95, 0.05], [0.02, 0.98]])\n",
    "net.set_node_probabilities(node_id=\"D\", new_probs=[[0.9, 0.1], [0.2, 0.8], [0.3, 0.7], [0.1, 0.9]])"
   ]
  },
  {
   "cell_type": "markdown",
   "metadata": {},
   "source": [
    "We can save the model now."
   ]
  },
  {
   "cell_type": "code",
   "execution_count": null,
   "metadata": {},
   "outputs": [],
   "source": [
    "asia.save_to_file(\"asia_bn.cmpx\")"
   ]
  }
 ],
 "metadata": {
  "kernelspec": {
   "display_name": "Python 3",
   "language": "python",
   "name": "python3"
  },
  "language_info": {
   "codemirror_mode": {
    "name": "ipython",
    "version": 3
   },
   "file_extension": ".py",
   "mimetype": "text/x-python",
   "name": "python",
   "nbconvert_exporter": "python",
   "pygments_lexer": "ipython3",
   "version": "3.11.0"
  }
 },
 "nbformat": 4,
 "nbformat_minor": 2
}
