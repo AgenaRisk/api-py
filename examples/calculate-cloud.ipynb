{
 "cells": [
  {
   "cell_type": "code",
   "execution_count": 1,
   "metadata": {},
   "outputs": [],
   "source": [
    "from pyagena import *"
   ]
  },
  {
   "cell_type": "markdown",
   "metadata": {},
   "source": [
    "Importing an existing model from a .cmpx file"
   ]
  },
  {
   "cell_type": "code",
   "execution_count": 2,
   "metadata": {},
   "outputs": [],
   "source": [
    "model = Model.from_cmpx(\"./models/CarCosts.cmpx\")"
   ]
  },
  {
   "cell_type": "markdown",
   "metadata": {},
   "source": [
    "Defining the dataSet of interest (\"mercedes\"), and finding the relevant dataSet object in the model."
   ]
  },
  {
   "cell_type": "code",
   "execution_count": 3,
   "metadata": {},
   "outputs": [],
   "source": [
    "ds_id = \"mercedes\"\n",
    "\n",
    "dataset = model.get_dataset(ds_id)"
   ]
  },
  {
   "cell_type": "markdown",
   "metadata": {},
   "source": [
    "Assigning certain nodes in the network so that it is easier to manipulate them (such as entering new observation)"
   ]
  },
  {
   "cell_type": "code",
   "execution_count": 4,
   "metadata": {},
   "outputs": [],
   "source": [
    "network = model.networks[0]\n",
    "\n",
    "node_car_type = network.get_node(\"car_type\")\n",
    "node_miles_per_year = network.get_node(\"Miles_per_year\")\n",
    "node_reliability = network.get_node(\"Reliability\")\n",
    "node_total_cost = network.get_node(\"total_cost\")"
   ]
  },
  {
   "cell_type": "markdown",
   "metadata": {},
   "source": [
    "Entering new observations to the selected nodes"
   ]
  },
  {
   "cell_type": "code",
   "execution_count": 5,
   "metadata": {},
   "outputs": [],
   "source": [
    "model.enter_observation(network_id=network.id, node_id=node_car_type.id, dataset_id=ds_id, value=\"Small\")\n",
    "model.enter_observation(network_id=network.id, node_id=node_miles_per_year.id, dataset_id=ds_id, value=1000)\n",
    "model.enter_observation(network_id=network.id, node_id=node_reliability.id, dataset_id=ds_id, value=\"Low\")"
   ]
  },
  {
   "cell_type": "markdown",
   "metadata": {},
   "source": [
    "Login to the agena.ai cloud servers to calculate the model"
   ]
  },
  {
   "cell_type": "code",
   "execution_count": 6,
   "metadata": {},
   "outputs": [
    {
     "name": "stdout",
     "output_type": "stream",
     "text": [
      "Authentication to agena.ai cloud servers is successful\n"
     ]
    }
   ],
   "source": [
    "cloud_user = login()"
   ]
  },
  {
   "cell_type": "code",
   "execution_count": 7,
   "metadata": {},
   "outputs": [
    {
     "name": "stdout",
     "output_type": "stream",
     "text": [
      "['Calculation finished']\n"
     ]
    }
   ],
   "source": [
    "cloud_user.calculate(model, ds_id)"
   ]
  },
  {
   "cell_type": "markdown",
   "metadata": {},
   "source": [
    "Accessing and displaying information which now is included in the model object. Assume we are interested in results for `node_total_cost`"
   ]
  },
  {
   "cell_type": "code",
   "execution_count": 8,
   "metadata": {},
   "outputs": [],
   "source": [
    "results = dataset.get_result(network_id=network.id, node_id=node_total_cost.id)"
   ]
  },
  {
   "cell_type": "markdown",
   "metadata": {},
   "source": [
    "Printing summary statistics (using `pretty print`)"
   ]
  },
  {
   "cell_type": "code",
   "execution_count": 9,
   "metadata": {},
   "outputs": [
    {
     "name": "stdout",
     "output_type": "stream",
     "text": [
      "{'confidenceInterval': 50,\n",
      " 'entropy': 0.0157332,\n",
      " 'lowerPercentile': 201.05387537644654,\n",
      " 'mean': 261.2577859278592,\n",
      " 'median': 272.9058768626156,\n",
      " 'percentile': 272.9058768626156,\n",
      " 'standardDeviation': 69.77912883649748,\n",
      " 'upperPercentile': 296.2357846539625,\n",
      " 'variance': 4869.1268211805145}\n"
     ]
    }
   ],
   "source": [
    "import pprint\n",
    "pprint.pprint(results.summaryStatistics)"
   ]
  }
 ],
 "metadata": {
  "kernelspec": {
   "display_name": "Python 3",
   "language": "python",
   "name": "python3"
  },
  "language_info": {
   "codemirror_mode": {
    "name": "ipython",
    "version": 3
   },
   "file_extension": ".py",
   "mimetype": "text/x-python",
   "name": "python",
   "nbconvert_exporter": "python",
   "pygments_lexer": "ipython3",
   "version": "3.11.0"
  },
  "orig_nbformat": 4
 },
 "nbformat": 4,
 "nbformat_minor": 2
}
