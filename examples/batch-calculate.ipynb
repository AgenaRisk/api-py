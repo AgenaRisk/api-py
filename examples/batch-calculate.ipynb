{
 "cells": [
  {
   "cell_type": "code",
   "execution_count": 1,
   "metadata": {},
   "outputs": [],
   "source": [
    "from pyagena import *"
   ]
  },
  {
   "cell_type": "markdown",
   "metadata": {},
   "source": [
    "Importing an existing model from a cmpx file:"
   ]
  },
  {
   "cell_type": "code",
   "execution_count": 2,
   "metadata": {},
   "outputs": [],
   "source": [
    "model = Model.from_cmpx(\"./models/CarCosts.cmpx\")\n",
    "network = model.networks[0]"
   ]
  },
  {
   "cell_type": "markdown",
   "metadata": {},
   "source": [
    "Creating an empty csv file template with all the networks and nodes in the model"
   ]
  },
  {
   "cell_type": "code",
   "execution_count": 3,
   "metadata": {},
   "outputs": [],
   "source": [
    "model.create_csv_template()"
   ]
  },
  {
   "cell_type": "markdown",
   "metadata": {},
   "source": [
    "The dataset csv is manually prepared and filled in outside the python environment, using the template created above.\n",
    "\n",
    "In this example, it now includes five scenarios with different observations, and only the columns about the observed variables are kept.\n",
    "\n",
    "\t\t\t\t\n",
    "\n",
    "| Case | Car Costs_0.car_type | Car Costs_0.Fuel_price | Car Costs_0.Miles_per_year | Car Costs_0.Reliability |\n",
    "| --- | --- | --- | --- | --- |\n",
    "| new_car_one | Medium | 3 | 10000 | High |\n",
    "| new_car_two  |  | 3 | 5000 | Low |\n",
    "| new_car_three | Small | 3 | 7500 | Medium |\n",
    "| new_car_four | Large | 3 |  | Medium |\n",
    "| new_car_five | Large | 3 | 6000 | High |\n",
    "\n"
   ]
  },
  {
   "cell_type": "code",
   "execution_count": 4,
   "metadata": {},
   "outputs": [],
   "source": [
    "input_data = \"./CarCosts_DataSet_Modified.csv\""
   ]
  },
  {
   "cell_type": "markdown",
   "metadata": {},
   "source": [
    "Creating batch cases, this function creates new cases (datasets) in the model with all the observations in the input data file."
   ]
  },
  {
   "cell_type": "code",
   "execution_count": 5,
   "metadata": {},
   "outputs": [
    {
     "name": "stdout",
     "output_type": "stream",
     "text": [
      "The model is sucessfully updated with new cases and observations from the dataset\n"
     ]
    }
   ],
   "source": [
    "model.create_batch_cases(input_data)"
   ]
  },
  {
   "cell_type": "markdown",
   "metadata": {},
   "source": [
    "Now the model is ready to be used for calculation purposes. Assume you have access to local agena API and it is set and compiled in the working directory:"
   ]
  },
  {
   "cell_type": "code",
   "execution_count": 6,
   "metadata": {},
   "outputs": [
    {
     "name": "stdout",
     "output_type": "stream",
     "text": [
      "Results are successfully imported to case honda\n",
      "The calculation is completed, the dataset in the model now contains new calculation results\n",
      "Results are successfully imported to case ford\n",
      "The calculation is completed, the dataset in the model now contains new calculation results\n",
      "Results are successfully imported to case mercedes\n",
      "The calculation is completed, the dataset in the model now contains new calculation results\n",
      "Results are successfully imported to case new_car_one\n",
      "The calculation is completed, the dataset in the model now contains new calculation results\n",
      "Results are successfully imported to case new_car_two\n",
      "The calculation is completed, the dataset in the model now contains new calculation results\n",
      "Results are successfully imported to case new_car_three\n",
      "The calculation is completed, the dataset in the model now contains new calculation results\n",
      "Results are successfully imported to case new_car_four\n",
      "The calculation is completed, the dataset in the model now contains new calculation results\n",
      "Results are successfully imported to case new_car_five\n",
      "The calculation is completed, the dataset in the model now contains new calculation results\n"
     ]
    }
   ],
   "source": [
    "local_api_batch_calculate(model)"
   ]
  }
 ],
 "metadata": {
  "kernelspec": {
   "display_name": "Python 3",
   "language": "python",
   "name": "python3"
  },
  "language_info": {
   "codemirror_mode": {
    "name": "ipython",
    "version": 3
   },
   "file_extension": ".py",
   "mimetype": "text/x-python",
   "name": "python",
   "nbconvert_exporter": "python",
   "pygments_lexer": "ipython3",
   "version": "3.11.0"
  },
  "orig_nbformat": 4
 },
 "nbformat": 4,
 "nbformat_minor": 2
}
