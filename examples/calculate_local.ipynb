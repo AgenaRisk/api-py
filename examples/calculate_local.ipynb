{
 "cells": [
  {
   "cell_type": "code",
   "execution_count": 1,
   "metadata": {},
   "outputs": [],
   "source": [
    "from pyagena import *"
   ]
  },
  {
   "cell_type": "markdown",
   "metadata": {},
   "source": [
    "Importing an existing model from a .cmpx file"
   ]
  },
  {
   "cell_type": "code",
   "execution_count": 2,
   "metadata": {},
   "outputs": [],
   "source": [
    "model = Model.from_cmpx(\"./models/CarCosts.cmpx\")"
   ]
  },
  {
   "cell_type": "markdown",
   "metadata": {},
   "source": [
    "Defining the dataSet of interest (\"mercedes\"), and finding the relevant dataSet object in the model."
   ]
  },
  {
   "cell_type": "code",
   "execution_count": 3,
   "metadata": {},
   "outputs": [],
   "source": [
    "ds_id = \"mercedes\"\n",
    "\n",
    "dataset = model.get_dataset(ds_id)"
   ]
  },
  {
   "cell_type": "markdown",
   "metadata": {},
   "source": [
    "Assigning certain nodes in the network so that it is easier to manipulate them (such as entering new observation)"
   ]
  },
  {
   "cell_type": "code",
   "execution_count": 4,
   "metadata": {},
   "outputs": [],
   "source": [
    "network = model.networks[0]\n",
    "\n",
    "node_car_type = network.get_node(\"car_type\")\n",
    "node_miles_per_year = network.get_node(\"Miles_per_year\")\n",
    "node_reliability = network.get_node(\"Reliability\")\n",
    "node_total_cost = network.get_node(\"total_cost\")\n"
   ]
  },
  {
   "cell_type": "markdown",
   "metadata": {},
   "source": [
    "Entering new observations to the selected nodes"
   ]
  },
  {
   "cell_type": "code",
   "execution_count": 5,
   "metadata": {},
   "outputs": [],
   "source": [
    "model.enter_observation(network_id=network.id, node_id=node_car_type.id, dataset_id=ds_id, value=\"Small\")\n",
    "model.enter_observation(network_id=network.id, node_id=node_miles_per_year.id, dataset_id=ds_id, value=1000)\n",
    "model.enter_observation(network_id=network.id, node_id=node_reliability.id, dataset_id=ds_id, value=\"Low\")"
   ]
  },
  {
   "cell_type": "markdown",
   "metadata": {},
   "source": [
    "Calculating the model using local agena.ai developer API (the API must be cloned and compiled within the working directory)"
   ]
  },
  {
   "cell_type": "code",
   "execution_count": 6,
   "metadata": {},
   "outputs": [
    {
     "name": "stdout",
     "output_type": "stream",
     "text": [
      "Results are successfully imported to case mercedes\n",
      "The calculation is completed, the dataset in the model now contains new calculation results\n"
     ]
    }
   ],
   "source": [
    "local_api_calculate(model, dataset_ids=[\"mercedes\"])"
   ]
  },
  {
   "cell_type": "markdown",
   "metadata": {},
   "source": [
    "Accessing and displaying information which now is included in the model object. Assume we are interested in results for `node_total_cost`"
   ]
  },
  {
   "cell_type": "code",
   "execution_count": 7,
   "metadata": {},
   "outputs": [],
   "source": [
    "results = dataset.get_result(network_id=network.id, node_id=node_total_cost.id)"
   ]
  },
  {
   "cell_type": "markdown",
   "metadata": {},
   "source": [
    "Printing summary statistics (using `pretty print`)"
   ]
  },
  {
   "cell_type": "code",
   "execution_count": 8,
   "metadata": {},
   "outputs": [
    {
     "name": "stdout",
     "output_type": "stream",
     "text": [
      "{'confidenceInterval': 50,\n",
      " 'entropy': 0.0157146,\n",
      " 'lowerPercentile': 201.06076801866857,\n",
      " 'mean': 261.26532501168117,\n",
      " 'median': 272.91206643161365,\n",
      " 'percentile': 272.91206643161365,\n",
      " 'standardDeviation': 69.80195514391046,\n",
      " 'upperPercentile': 296.24618361954293,\n",
      " 'variance': 4872.312941912489}\n"
     ]
    }
   ],
   "source": [
    "import pprint\n",
    "pprint.pprint(results.summaryStatistics)"
   ]
  }
 ],
 "metadata": {
  "kernelspec": {
   "display_name": "Python 3",
   "language": "python",
   "name": "python3"
  },
  "language_info": {
   "codemirror_mode": {
    "name": "ipython",
    "version": 3
   },
   "file_extension": ".py",
   "mimetype": "text/x-python",
   "name": "python",
   "nbconvert_exporter": "python",
   "pygments_lexer": "ipython3",
   "version": "3.11.0"
  },
  "orig_nbformat": 4
 },
 "nbformat": 4,
 "nbformat_minor": 2
}
